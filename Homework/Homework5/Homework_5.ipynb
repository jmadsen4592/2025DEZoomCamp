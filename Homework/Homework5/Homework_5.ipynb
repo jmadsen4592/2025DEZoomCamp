{
  "nbformat": 4,
  "nbformat_minor": 0,
  "metadata": {
    "colab": {
      "provenance": []
    },
    "kernelspec": {
      "name": "python3",
      "display_name": "Python 3"
    },
    "language_info": {
      "name": "python"
    }
  },
  "cells": [
    {
      "cell_type": "code",
      "source": [
        "from google.colab import drive\n",
        "drive.mount('/content/drive')"
      ],
      "metadata": {
        "colab": {
          "base_uri": "https://localhost:8080/"
        },
        "id": "P-sIpYfkrNRe",
        "outputId": "32476fc6-7f72-40d2-b700-33b63e02cb23"
      },
      "execution_count": 7,
      "outputs": [
        {
          "output_type": "stream",
          "name": "stdout",
          "text": [
            "Mounted at /content/drive\n"
          ]
        }
      ]
    },
    {
      "cell_type": "code",
      "source": [
        "import pyspark\n",
        "from pyspark.sql import SparkSession"
      ],
      "metadata": {
        "id": "n9Az3iHXqCoU"
      },
      "execution_count": 1,
      "outputs": []
    },
    {
      "cell_type": "code",
      "execution_count": 2,
      "metadata": {
        "id": "GjvZfm3zp52m"
      },
      "outputs": [],
      "source": [
        "spark = SparkSession.builder \\\n",
        "    .master(\"local[*]\") \\\n",
        "    .appName('test') \\\n",
        "    .getOrCreate()"
      ]
    },
    {
      "cell_type": "code",
      "source": [
        "spark.version"
      ],
      "metadata": {
        "colab": {
          "base_uri": "https://localhost:8080/",
          "height": 35
        },
        "id": "HZlE0BUvqFxS",
        "outputId": "0ca12729-a6dc-4edf-ceab-ba7f8fdcf9ab"
      },
      "execution_count": 3,
      "outputs": [
        {
          "output_type": "execute_result",
          "data": {
            "text/plain": [
              "'3.5.5'"
            ],
            "application/vnd.google.colaboratory.intrinsic+json": {
              "type": "string"
            }
          },
          "metadata": {},
          "execution_count": 3
        }
      ]
    },
    {
      "cell_type": "markdown",
      "source": [
        "question 1: 3.5.5"
      ],
      "metadata": {
        "id": "bwaJ9DxksVmV"
      }
    },
    {
      "cell_type": "code",
      "source": [
        "!wget https://d37ci6vzurychx.cloudfront.net/trip-data/yellow_tripdata_2024-10.parquet"
      ],
      "metadata": {
        "colab": {
          "base_uri": "https://localhost:8080/"
        },
        "id": "BfQhQsXUqKT2",
        "outputId": "28df2079-feed-4fe0-971b-df0689437ecf"
      },
      "execution_count": 5,
      "outputs": [
        {
          "output_type": "stream",
          "name": "stdout",
          "text": [
            "--2025-03-16 20:36:11--  https://d37ci6vzurychx.cloudfront.net/trip-data/yellow_tripdata_2024-10.parquet\n",
            "Resolving d37ci6vzurychx.cloudfront.net (d37ci6vzurychx.cloudfront.net)... 18.160.201.5, 18.160.201.50, 18.160.201.126, ...\n",
            "Connecting to d37ci6vzurychx.cloudfront.net (d37ci6vzurychx.cloudfront.net)|18.160.201.5|:443... connected.\n",
            "HTTP request sent, awaiting response... 200 OK\n",
            "Length: 64346071 (61M) [binary/octet-stream]\n",
            "Saving to: ‘yellow_tripdata_2024-10.parquet’\n",
            "\n",
            "yellow_tripdata_202 100%[===================>]  61.36M  88.8MB/s    in 0.7s    \n",
            "\n",
            "2025-03-16 20:36:12 (88.8 MB/s) - ‘yellow_tripdata_2024-10.parquet’ saved [64346071/64346071]\n",
            "\n"
          ]
        }
      ]
    },
    {
      "cell_type": "code",
      "source": [
        "df_yellow = spark.read.parquet('yellow_tripdata_2024-10.parquet')"
      ],
      "metadata": {
        "id": "Q60XGOpsqvG9"
      },
      "execution_count": 65,
      "outputs": []
    },
    {
      "cell_type": "code",
      "source": [
        "df_yellow \\\n",
        "  .repartition(4) \\\n",
        "  .write.parquet('drive/MyDrive/hw5', mode='overwrite')"
      ],
      "metadata": {
        "id": "rRvmwJnCq-u_"
      },
      "execution_count": 16,
      "outputs": []
    },
    {
      "cell_type": "markdown",
      "source": [
        "question 2: 23mb"
      ],
      "metadata": {
        "id": "3rrQ9cFZsRoQ"
      }
    },
    {
      "cell_type": "code",
      "source": [
        "df_yellow.registerTempTable('yellow')"
      ],
      "metadata": {
        "colab": {
          "base_uri": "https://localhost:8080/"
        },
        "id": "-NUxNALcs-X1",
        "outputId": "0f6c5319-52b8-4266-ef9f-d8c8b0ebc932"
      },
      "execution_count": 23,
      "outputs": [
        {
          "output_type": "stream",
          "name": "stderr",
          "text": [
            "/usr/local/lib/python3.11/dist-packages/pyspark/sql/dataframe.py:329: FutureWarning: Deprecated in 2.0, use createOrReplaceTempView instead.\n",
            "  warnings.warn(\"Deprecated in 2.0, use createOrReplaceTempView instead.\", FutureWarning)\n"
          ]
        }
      ]
    },
    {
      "cell_type": "code",
      "source": [
        "df_yellow_count = spark.sql(\"\"\"\n",
        "SELECT\n",
        "    count(1)\n",
        "FROM\n",
        "    yellow\n",
        "WHERE\n",
        "    DATE(tpep_pickup_datetime) = '2024-10-15'\n",
        "\"\"\")"
      ],
      "metadata": {
        "id": "vhtR7PObrfqw"
      },
      "execution_count": 24,
      "outputs": []
    },
    {
      "cell_type": "code",
      "source": [
        "df_yellow_count.show()"
      ],
      "metadata": {
        "colab": {
          "base_uri": "https://localhost:8080/"
        },
        "id": "JNYGK42LtWVF",
        "outputId": "ce954c59-c762-456f-ce96-7dfecc7067f2"
      },
      "execution_count": 39,
      "outputs": [
        {
          "output_type": "stream",
          "name": "stdout",
          "text": [
            "+--------+\n",
            "|count(1)|\n",
            "+--------+\n",
            "|  128893|\n",
            "+--------+\n",
            "\n"
          ]
        }
      ]
    },
    {
      "cell_type": "markdown",
      "source": [
        "Question 3: 128893"
      ],
      "metadata": {
        "id": "FC5_r40gwIGR"
      }
    },
    {
      "cell_type": "code",
      "source": [
        "from pyspark.sql import functions as F\n"
      ],
      "metadata": {
        "id": "g87LcFQF0CFG"
      },
      "execution_count": 47,
      "outputs": []
    },
    {
      "cell_type": "code",
      "source": [
        "df_yellow_with_duration = df_yellow.withColumn(\n",
        "    \"trip_duration_hours\",\n",
        "    (F.unix_timestamp(\"tpep_dropoff_datetime\") - F.unix_timestamp(\"tpep_pickup_datetime\")) / 3600\n",
        "\n",
        ")"
      ],
      "metadata": {
        "id": "JJD_-IfJtcS1"
      },
      "execution_count": 48,
      "outputs": []
    },
    {
      "cell_type": "code",
      "source": [
        "longest_trip = df_yellow_with_duration.orderBy(F.desc(\"trip_duration_hours\")).limit(1)\n",
        "longest_trip.show()"
      ],
      "metadata": {
        "colab": {
          "base_uri": "https://localhost:8080/"
        },
        "id": "r8AmXhZbxYUZ",
        "outputId": "17a50562-d77f-47c8-82a7-8e4206e16ea3"
      },
      "execution_count": 50,
      "outputs": [
        {
          "output_type": "stream",
          "name": "stdout",
          "text": [
            "+--------+--------------------+---------------------+---------------+-------------+----------+------------------+------------+------------+------------+-----------+-----+-------+----------+------------+---------------------+------------+--------------------+-----------+-------------------+\n",
            "|VendorID|tpep_pickup_datetime|tpep_dropoff_datetime|passenger_count|trip_distance|RatecodeID|store_and_fwd_flag|PULocationID|DOLocationID|payment_type|fare_amount|extra|mta_tax|tip_amount|tolls_amount|improvement_surcharge|total_amount|congestion_surcharge|Airport_fee|trip_duration_hours|\n",
            "+--------+--------------------+---------------------+---------------+-------------+----------+------------------+------------+------------+------------+-----------+-----+-------+----------+------------+---------------------+------------+--------------------+-----------+-------------------+\n",
            "|       2| 2024-10-16 13:03:49|  2024-10-23 07:40:53|              1|        32.37|         3|                 N|          48|         265|           2|      152.5|  0.0|    0.0|       0.0|       17.38|                  1.0|      170.88|                 0.0|        0.0| 162.61777777777777|\n",
            "+--------+--------------------+---------------------+---------------+-------------+----------+------------------+------------+------------+------------+-----------+-----+-------+----------+------------+---------------------+------------+--------------------+-----------+-------------------+\n",
            "\n"
          ]
        }
      ]
    },
    {
      "cell_type": "markdown",
      "source": [
        "Question 4: 162.617777"
      ],
      "metadata": {
        "id": "LThxyXWy0TXt"
      }
    },
    {
      "cell_type": "code",
      "source": [
        "!wget https://d37ci6vzurychx.cloudfront.net/misc/taxi_zone_lookup.csv\n"
      ],
      "metadata": {
        "colab": {
          "base_uri": "https://localhost:8080/"
        },
        "id": "CI-lzt3FyXuM",
        "outputId": "825ae717-d15b-4975-aedc-ce88b25f84ea"
      },
      "execution_count": 52,
      "outputs": [
        {
          "output_type": "stream",
          "name": "stdout",
          "text": [
            "--2025-03-16 21:18:07--  https://d37ci6vzurychx.cloudfront.net/misc/taxi_zone_lookup.csv\n",
            "Resolving d37ci6vzurychx.cloudfront.net (d37ci6vzurychx.cloudfront.net)... 18.160.201.131, 18.160.201.5, 18.160.201.126, ...\n",
            "Connecting to d37ci6vzurychx.cloudfront.net (d37ci6vzurychx.cloudfront.net)|18.160.201.131|:443... connected.\n",
            "HTTP request sent, awaiting response... 200 OK\n",
            "Length: 12331 (12K) [text/csv]\n",
            "Saving to: ‘taxi_zone_lookup.csv’\n",
            "\n",
            "\rtaxi_zone_lookup.cs   0%[                    ]       0  --.-KB/s               \rtaxi_zone_lookup.cs 100%[===================>]  12.04K  --.-KB/s    in 0s      \n",
            "\n",
            "2025-03-16 21:18:08 (214 MB/s) - ‘taxi_zone_lookup.csv’ saved [12331/12331]\n",
            "\n"
          ]
        }
      ]
    },
    {
      "cell_type": "code",
      "source": [
        "df_zones = spark.read.parquet('drive/MyDrive/zones/')"
      ],
      "metadata": {
        "id": "FZ58uOWb0h_W"
      },
      "execution_count": 56,
      "outputs": []
    },
    {
      "cell_type": "code",
      "source": [
        "df_join = df_yellow.join(df_zones, df_yellow.PULocationID == df_zones.LocationID)"
      ],
      "metadata": {
        "id": "qzgxdhc303EK"
      },
      "execution_count": 66,
      "outputs": []
    },
    {
      "cell_type": "code",
      "source": [
        "df_join.registerTempTable('joined_table')"
      ],
      "metadata": {
        "colab": {
          "base_uri": "https://localhost:8080/"
        },
        "id": "ICDQuoKs2QQ3",
        "outputId": "146d8055-eb8a-482b-bb7e-dcc841379119"
      },
      "execution_count": 67,
      "outputs": [
        {
          "output_type": "stream",
          "name": "stderr",
          "text": [
            "/usr/local/lib/python3.11/dist-packages/pyspark/sql/dataframe.py:329: FutureWarning: Deprecated in 2.0, use createOrReplaceTempView instead.\n",
            "  warnings.warn(\"Deprecated in 2.0, use createOrReplaceTempView instead.\", FutureWarning)\n"
          ]
        }
      ]
    },
    {
      "cell_type": "code",
      "source": [
        "q6_query = spark.sql(\"\"\"\n",
        "SELECT\n",
        "    Zone,\n",
        "    count(1)\n",
        "FROM\n",
        "    joined_table\n",
        "GROUP BY\n",
        "    1\n",
        "ORDER BY\n",
        "    2 ASC\n",
        "\"\"\")"
      ],
      "metadata": {
        "id": "Rk8FiLNL1W71"
      },
      "execution_count": 68,
      "outputs": []
    },
    {
      "cell_type": "code",
      "source": [
        "q6_query.show()"
      ],
      "metadata": {
        "colab": {
          "base_uri": "https://localhost:8080/"
        },
        "id": "trgmk-H31aGN",
        "outputId": "1e46f319-1bf2-4fee-cba8-b4f47a6bb868"
      },
      "execution_count": 69,
      "outputs": [
        {
          "output_type": "stream",
          "name": "stdout",
          "text": [
            "+--------------------+--------+\n",
            "|                Zone|count(1)|\n",
            "+--------------------+--------+\n",
            "|Governor's Island...|       1|\n",
            "|       Rikers Island|       2|\n",
            "|       Arden Heights|       2|\n",
            "|         Jamaica Bay|       3|\n",
            "| Green-Wood Cemetery|       3|\n",
            "|Charleston/Totten...|       4|\n",
            "|   Rossville/Woodrow|       4|\n",
            "|       West Brighton|       4|\n",
            "|       Port Richmond|       4|\n",
            "|Eltingville/Annad...|       4|\n",
            "|         Great Kills|       6|\n",
            "|        Crotona Park|       6|\n",
            "|     Mariners Harbor|       7|\n",
            "|Heartland Village...|       7|\n",
            "|Saint George/New ...|       9|\n",
            "|             Oakwood|       9|\n",
            "|New Dorp/Midland ...|      10|\n",
            "|       Broad Channel|      10|\n",
            "|         Westerleigh|      12|\n",
            "|     Pelham Bay Park|      12|\n",
            "+--------------------+--------+\n",
            "only showing top 20 rows\n",
            "\n"
          ]
        }
      ]
    },
    {
      "cell_type": "markdown",
      "source": [
        "Question 6: Governor's Island/Ellis Island/Liberty Island\n"
      ],
      "metadata": {
        "id": "dNF_puew3F_B"
      }
    },
    {
      "cell_type": "code",
      "source": [],
      "metadata": {
        "id": "eaueTPT72wi_"
      },
      "execution_count": null,
      "outputs": []
    }
  ]
}